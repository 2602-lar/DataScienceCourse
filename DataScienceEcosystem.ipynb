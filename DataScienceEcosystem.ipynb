{
 "cells": [
  {
   "cell_type": "markdown",
   "id": "31525506-cb8f-4f10-9c23-6fef9c5b9e34",
   "metadata": {},
   "source": [
    "# Data Science Tools and Ecosystem"
   ]
  },
  {
   "cell_type": "markdown",
   "id": "4dd1728d-06bd-4d2d-ae62-a1c5bbd9bda2",
   "metadata": {},
   "source": [
    "In this notebook, Data Science Tools and Ecosystem are summarized."
   ]
  },
  {
   "cell_type": "markdown",
   "id": "8f960cca-b7b6-43ba-87d4-c5ecfd03e3a5",
   "metadata": {},
   "source": [
    "**Objectives:**\n",
    "* List popular languages for Data Science\n",
    "* List of Libraries used in Data Science\n",
    "* Table of Data Science Tools"
   ]
  },
  {
   "cell_type": "markdown",
   "id": "213d33f6-e083-44c5-9c43-4ea9141e4ebb",
   "metadata": {},
   "source": [
    "Some of the popular languages that Data Scientists use are:\n",
    "1. Python\n",
    "2. Java\n",
    "3. R"
   ]
  },
  {
   "cell_type": "markdown",
   "id": "3e32a839-ad2c-40dd-a2d2-7085c7ab3407",
   "metadata": {},
   "source": [
    "Some of the commonly used libraries used by Data Scientists include:\n",
    "1. Sci-kit Learn\n",
    "2. Keras\n",
    "3. Matplotlib\n",
    "4. Numpy"
   ]
  },
  {
   "cell_type": "markdown",
   "id": "374583c1-942a-40af-819e-adfbec46556f",
   "metadata": {},
   "source": [
    "|Data Science Tools|\n",
    "|:----------------:|\n",
    "|    R Studio      |\n",
    "|    VS Code       |\n",
    "|    Jupyter lab   |"
   ]
  },
  {
   "cell_type": "markdown",
   "id": "a13ab0ac-670d-464a-9955-523e84908c44",
   "metadata": {},
   "source": [
    "### Below are a few examples of evaluating arithmetic expressions in Python"
   ]
  },
  {
   "cell_type": "code",
   "execution_count": 1,
   "id": "00210aa6-d814-490f-b82c-552cd7a24dc2",
   "metadata": {},
   "outputs": [
    {
     "name": "stdout",
     "output_type": "stream",
     "text": [
      "17\n"
     ]
    }
   ],
   "source": [
    "#This a simple arithmetic expression to mutiply then add integers\n",
    "print((3*4)+5)"
   ]
  },
  {
   "cell_type": "code",
   "execution_count": 2,
   "id": "fcc22ef1-8193-4a43-840f-7b000049f2ed",
   "metadata": {},
   "outputs": [
    {
     "name": "stdout",
     "output_type": "stream",
     "text": [
      "3.3333333333333335\n"
     ]
    }
   ],
   "source": [
    "#This will convert 200 minutes to hours by diving by 60\n",
    "hours = 200/60\n",
    "print(hours)"
   ]
  },
  {
   "cell_type": "markdown",
   "id": "e50f011a-ac3b-4e2f-83e5-0f3cdf1f5b82",
   "metadata": {},
   "source": [
    "## Author\n",
    "Lazie Maphion"
   ]
  },
  {
   "cell_type": "code",
   "execution_count": null,
   "id": "bbcc1042-293e-421c-a597-3dc54607c606",
   "metadata": {},
   "outputs": [],
   "source": []
  }
 ],
 "metadata": {
  "kernelspec": {
   "display_name": "Python 3 (ipykernel)",
   "language": "python",
   "name": "python3"
  },
  "language_info": {
   "codemirror_mode": {
    "name": "ipython",
    "version": 3
   },
   "file_extension": ".py",
   "mimetype": "text/x-python",
   "name": "python",
   "nbconvert_exporter": "python",
   "pygments_lexer": "ipython3",
   "version": "3.12.5"
  }
 },
 "nbformat": 4,
 "nbformat_minor": 5
}
